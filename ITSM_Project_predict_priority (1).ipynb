{
 "cells": [
  {
   "cell_type": "code",
   "execution_count": 1,
   "metadata": {},
   "outputs": [],
   "source": [
    "import pandas as pd\n",
    "import numpy as np\n",
    "from collections import Counter"
   ]
  },
  {
   "cell_type": "code",
   "execution_count": 2,
   "metadata": {},
   "outputs": [
    {
     "name": "stderr",
     "output_type": "stream",
     "text": [
      "/Users/ashokveda/anaconda3/lib/python3.7/site-packages/IPython/core/interactiveshell.py:3049: DtypeWarning: Columns (7) have mixed types. Specify dtype option on import or set low_memory=False.\n",
      "  interactivity=interactivity, compiler=compiler, result=result)\n"
     ]
    }
   ],
   "source": [
    "date_parser = lambda c: pd.to_datetime(c, format='%d/%m/%Y %H:%M:%S', errors='coerce')\n",
    "data = pd.read_csv('ITSM_data.csv', parse_dates=['Open_Time','Reopen_Time','Close_Time','Resolved_Time'],)"
   ]
  },
  {
   "cell_type": "code",
   "execution_count": 3,
   "metadata": {},
   "outputs": [
    {
     "data": {
      "text/html": [
       "<div>\n",
       "<style scoped>\n",
       "    .dataframe tbody tr th:only-of-type {\n",
       "        vertical-align: middle;\n",
       "    }\n",
       "\n",
       "    .dataframe tbody tr th {\n",
       "        vertical-align: top;\n",
       "    }\n",
       "\n",
       "    .dataframe thead th {\n",
       "        text-align: right;\n",
       "    }\n",
       "</style>\n",
       "<table border=\"1\" class=\"dataframe\">\n",
       "  <thead>\n",
       "    <tr style=\"text-align: right;\">\n",
       "      <th></th>\n",
       "      <th>CI_Name</th>\n",
       "      <th>CI_Cat</th>\n",
       "      <th>CI_Subcat</th>\n",
       "      <th>WBS</th>\n",
       "      <th>Incident_ID</th>\n",
       "      <th>Status</th>\n",
       "      <th>Impact</th>\n",
       "      <th>Urgency</th>\n",
       "      <th>Priority</th>\n",
       "      <th>Unnamed: 9</th>\n",
       "      <th>...</th>\n",
       "      <th>Reopen_Time</th>\n",
       "      <th>Resolved_Time</th>\n",
       "      <th>Close_Time</th>\n",
       "      <th>Handle_Time_hrs</th>\n",
       "      <th>Closure_Code</th>\n",
       "      <th>No_of_Related_Interactions</th>\n",
       "      <th>Related_Interaction</th>\n",
       "      <th>No_of_Related_Incidents</th>\n",
       "      <th>No_of_Related_Changes</th>\n",
       "      <th>Related_Change</th>\n",
       "    </tr>\n",
       "  </thead>\n",
       "  <tbody>\n",
       "    <tr>\n",
       "      <th>0</th>\n",
       "      <td>SUB000508</td>\n",
       "      <td>subapplication</td>\n",
       "      <td>Web Based Application</td>\n",
       "      <td>WBS000162</td>\n",
       "      <td>IM0000004</td>\n",
       "      <td>Closed</td>\n",
       "      <td>4</td>\n",
       "      <td>4</td>\n",
       "      <td>4.0</td>\n",
       "      <td>0.820967</td>\n",
       "      <td>...</td>\n",
       "      <td>NaT</td>\n",
       "      <td>2013-04-11 13:50:27</td>\n",
       "      <td>2013-04-11 13:51:17</td>\n",
       "      <td>3871,691111</td>\n",
       "      <td>Other</td>\n",
       "      <td>1.0</td>\n",
       "      <td>SD0000007</td>\n",
       "      <td>2.0</td>\n",
       "      <td>NaN</td>\n",
       "      <td>NaN</td>\n",
       "    </tr>\n",
       "    <tr>\n",
       "      <th>1</th>\n",
       "      <td>WBA000124</td>\n",
       "      <td>application</td>\n",
       "      <td>Web Based Application</td>\n",
       "      <td>WBS000088</td>\n",
       "      <td>IM0000005</td>\n",
       "      <td>Closed</td>\n",
       "      <td>3</td>\n",
       "      <td>3</td>\n",
       "      <td>3.0</td>\n",
       "      <td>0.936566</td>\n",
       "      <td>...</td>\n",
       "      <td>2013-02-12 12:31:02</td>\n",
       "      <td>2013-02-12 12:36:21</td>\n",
       "      <td>2013-02-12 12:36:25</td>\n",
       "      <td>4354,786389</td>\n",
       "      <td>Software</td>\n",
       "      <td>1.0</td>\n",
       "      <td>SD0000011</td>\n",
       "      <td>1.0</td>\n",
       "      <td>NaN</td>\n",
       "      <td>NaN</td>\n",
       "    </tr>\n",
       "  </tbody>\n",
       "</table>\n",
       "<p>2 rows × 26 columns</p>\n",
       "</div>"
      ],
      "text/plain": [
       "     CI_Name          CI_Cat              CI_Subcat        WBS Incident_ID  \\\n",
       "0  SUB000508  subapplication  Web Based Application  WBS000162   IM0000004   \n",
       "1  WBA000124     application  Web Based Application  WBS000088   IM0000005   \n",
       "\n",
       "   Status Impact Urgency  Priority  Unnamed: 9  ...         Reopen_Time  \\\n",
       "0  Closed      4       4       4.0    0.820967  ...                 NaT   \n",
       "1  Closed      3       3       3.0    0.936566  ... 2013-02-12 12:31:02   \n",
       "\n",
       "        Resolved_Time          Close_Time  Handle_Time_hrs  Closure_Code  \\\n",
       "0 2013-04-11 13:50:27 2013-04-11 13:51:17      3871,691111         Other   \n",
       "1 2013-02-12 12:36:21 2013-02-12 12:36:25      4354,786389      Software   \n",
       "\n",
       "  No_of_Related_Interactions Related_Interaction No_of_Related_Incidents  \\\n",
       "0                        1.0           SD0000007                     2.0   \n",
       "1                        1.0           SD0000011                     1.0   \n",
       "\n",
       "  No_of_Related_Changes Related_Change  \n",
       "0                   NaN            NaN  \n",
       "1                   NaN            NaN  \n",
       "\n",
       "[2 rows x 26 columns]"
      ]
     },
     "execution_count": 3,
     "metadata": {},
     "output_type": "execute_result"
    }
   ],
   "source": [
    "data.head(2)"
   ]
  },
  {
   "cell_type": "code",
   "execution_count": 4,
   "metadata": {},
   "outputs": [
    {
     "data": {
      "text/plain": [
       "Timestamp('2013-11-14 09:31:24')"
      ]
     },
     "execution_count": 4,
     "metadata": {},
     "output_type": "execute_result"
    }
   ],
   "source": [
    "data.Close_Time[3]"
   ]
  },
  {
   "cell_type": "code",
   "execution_count": 93,
   "metadata": {},
   "outputs": [
    {
     "name": "stdout",
     "output_type": "stream",
     "text": [
      "<class 'pandas.core.frame.DataFrame'>\n",
      "RangeIndex: 46606 entries, 0 to 46605\n",
      "Data columns (total 27 columns):\n",
      "CI_Name                       46606 non-null object\n",
      "CI_Cat                        46495 non-null object\n",
      "CI_Subcat                     46495 non-null object\n",
      "WBS                           46606 non-null object\n",
      "Incident_ID                   46606 non-null object\n",
      "Status                        46606 non-null object\n",
      "Impact                        46606 non-null object\n",
      "Urgency                       46606 non-null object\n",
      "Priority                      45226 non-null float64\n",
      "Unnamed: 9                    46606 non-null float64\n",
      "Category                      46606 non-null object\n",
      "KB_number                     46606 non-null object\n",
      "Alert_Status                  46606 non-null object\n",
      "No_of_Reassignments           46605 non-null float64\n",
      "Unnamed: 14                   46606 non-null int64\n",
      "Open_Time                     46606 non-null datetime64[ns]\n",
      "Reopen_Time                   2284 non-null datetime64[ns]\n",
      "Resolved_Time                 44826 non-null datetime64[ns]\n",
      "Close_Time                    46606 non-null datetime64[ns]\n",
      "Handle_Time_hrs               46605 non-null object\n",
      "Closure_Code                  46146 non-null object\n",
      "No_of_Related_Interactions    46492 non-null float64\n",
      "Related_Interaction           46606 non-null object\n",
      "No_of_Related_Incidents       1222 non-null float64\n",
      "No_of_Related_Changes         560 non-null float64\n",
      "Related_Change                560 non-null object\n",
      "duration                      46606 non-null timedelta64[ns]\n",
      "dtypes: datetime64[ns](4), float64(6), int64(1), object(15), timedelta64[ns](1)\n",
      "memory usage: 9.6+ MB\n"
     ]
    }
   ],
   "source": [
    "data.info()"
   ]
  },
  {
   "cell_type": "code",
   "execution_count": 4,
   "metadata": {},
   "outputs": [
    {
     "data": {
      "text/plain": [
       "[('incident', 37748),\n",
       " ('request for information', 8846),\n",
       " ('complaint', 11),\n",
       " ('request for change', 1)]"
      ]
     },
     "execution_count": 4,
     "metadata": {},
     "output_type": "execute_result"
    }
   ],
   "source": [
    "Counter(data.Category).most_common(5)"
   ]
  },
  {
   "cell_type": "code",
   "execution_count": 7,
   "metadata": {},
   "outputs": [
    {
     "data": {
      "text/html": [
       "<div>\n",
       "<style scoped>\n",
       "    .dataframe tbody tr th:only-of-type {\n",
       "        vertical-align: middle;\n",
       "    }\n",
       "\n",
       "    .dataframe tbody tr th {\n",
       "        vertical-align: top;\n",
       "    }\n",
       "\n",
       "    .dataframe thead th {\n",
       "        text-align: right;\n",
       "    }\n",
       "</style>\n",
       "<table border=\"1\" class=\"dataframe\">\n",
       "  <thead>\n",
       "    <tr style=\"text-align: right;\">\n",
       "      <th></th>\n",
       "      <th>Open_Time</th>\n",
       "      <th>Reopen_Time</th>\n",
       "      <th>Close_Time</th>\n",
       "      <th>Resolved_Time</th>\n",
       "      <th>Handle_Time_hrs</th>\n",
       "      <th>Priority</th>\n",
       "    </tr>\n",
       "  </thead>\n",
       "  <tbody>\n",
       "    <tr>\n",
       "      <th>30</th>\n",
       "      <td>2013-02-19 11:52:03</td>\n",
       "      <td>NaT</td>\n",
       "      <td>2013-12-23 13:04:33</td>\n",
       "      <td>2013-12-23 13:03:51</td>\n",
       "      <td>2050,36</td>\n",
       "      <td>4.0</td>\n",
       "    </tr>\n",
       "    <tr>\n",
       "      <th>31</th>\n",
       "      <td>2013-02-20 10:14:37</td>\n",
       "      <td>NaT</td>\n",
       "      <td>2013-08-11 13:57:15</td>\n",
       "      <td>2013-08-11 13:56:54</td>\n",
       "      <td>1935,710556</td>\n",
       "      <td>4.0</td>\n",
       "    </tr>\n",
       "    <tr>\n",
       "      <th>32</th>\n",
       "      <td>2013-02-25 16:03:52</td>\n",
       "      <td>NaT</td>\n",
       "      <td>2014-12-03 10:16:22</td>\n",
       "      <td>2014-12-03 10:15:40</td>\n",
       "      <td>2764,633056</td>\n",
       "      <td>4.0</td>\n",
       "    </tr>\n",
       "    <tr>\n",
       "      <th>33</th>\n",
       "      <td>2013-02-26 16:44:41</td>\n",
       "      <td>NaT</td>\n",
       "      <td>2013-12-11 13:40:13</td>\n",
       "      <td>2013-12-11 13:40:07</td>\n",
       "      <td>6,1125</td>\n",
       "      <td>4.0</td>\n",
       "    </tr>\n",
       "    <tr>\n",
       "      <th>34</th>\n",
       "      <td>2013-02-28 12:23:11</td>\n",
       "      <td>2013-03-12 08:57:55</td>\n",
       "      <td>2013-03-12 10:36:32</td>\n",
       "      <td>2013-03-12 10:36:18</td>\n",
       "      <td>88,67166667</td>\n",
       "      <td>4.0</td>\n",
       "    </tr>\n",
       "    <tr>\n",
       "      <th>35</th>\n",
       "      <td>2013-02-28 16:49:58</td>\n",
       "      <td>NaT</td>\n",
       "      <td>2013-11-20 16:38:20</td>\n",
       "      <td>2013-11-20 16:38:17</td>\n",
       "      <td>1917,175278</td>\n",
       "      <td>4.0</td>\n",
       "    </tr>\n",
       "  </tbody>\n",
       "</table>\n",
       "</div>"
      ],
      "text/plain": [
       "             Open_Time         Reopen_Time          Close_Time  \\\n",
       "30 2013-02-19 11:52:03                 NaT 2013-12-23 13:04:33   \n",
       "31 2013-02-20 10:14:37                 NaT 2013-08-11 13:57:15   \n",
       "32 2013-02-25 16:03:52                 NaT 2014-12-03 10:16:22   \n",
       "33 2013-02-26 16:44:41                 NaT 2013-12-11 13:40:13   \n",
       "34 2013-02-28 12:23:11 2013-03-12 08:57:55 2013-03-12 10:36:32   \n",
       "35 2013-02-28 16:49:58                 NaT 2013-11-20 16:38:20   \n",
       "\n",
       "         Resolved_Time Handle_Time_hrs  Priority  \n",
       "30 2013-12-23 13:03:51         2050,36       4.0  \n",
       "31 2013-08-11 13:56:54     1935,710556       4.0  \n",
       "32 2014-12-03 10:15:40     2764,633056       4.0  \n",
       "33 2013-12-11 13:40:07          6,1125       4.0  \n",
       "34 2013-03-12 10:36:18     88,67166667       4.0  \n",
       "35 2013-11-20 16:38:17     1917,175278       4.0  "
      ]
     },
     "execution_count": 7,
     "metadata": {},
     "output_type": "execute_result"
    }
   ],
   "source": [
    "data.loc[30:35,['Open_Time','Reopen_Time','Close_Time','Resolved_Time','Handle_Time_hrs','Priority']]"
   ]
  },
  {
   "cell_type": "code",
   "execution_count": 8,
   "metadata": {},
   "outputs": [
    {
     "data": {
      "text/plain": [
       "1380"
      ]
     },
     "execution_count": 8,
     "metadata": {},
     "output_type": "execute_result"
    }
   ],
   "source": [
    "data[data.Priority.isnull()].Incident_ID.count()"
   ]
  },
  {
   "cell_type": "code",
   "execution_count": 9,
   "metadata": {},
   "outputs": [
    {
     "data": {
      "text/plain": [
       "0"
      ]
     },
     "execution_count": 9,
     "metadata": {},
     "output_type": "execute_result"
    }
   ],
   "source": [
    "data[data.Impact.isnull()].Incident_ID.count()"
   ]
  },
  {
   "cell_type": "code",
   "execution_count": 10,
   "metadata": {},
   "outputs": [],
   "source": [
    "data1 = data[data.Priority.isnull()==False]"
   ]
  },
  {
   "cell_type": "code",
   "execution_count": 11,
   "metadata": {},
   "outputs": [
    {
     "data": {
      "text/plain": [
       "(45226, 26)"
      ]
     },
     "execution_count": 11,
     "metadata": {},
     "output_type": "execute_result"
    }
   ],
   "source": [
    "data1.shape"
   ]
  },
  {
   "cell_type": "code",
   "execution_count": 12,
   "metadata": {},
   "outputs": [],
   "source": [
    "#SMOTE = Synthetic Minority Oversampling Technique"
   ]
  },
  {
   "cell_type": "code",
   "execution_count": 13,
   "metadata": {},
   "outputs": [
    {
     "data": {
      "text/plain": [
       "Counter({1.0: 3, 2.0: 697, 3.0: 5323, 4.0: 22717, 5.0: 16486})"
      ]
     },
     "execution_count": 13,
     "metadata": {},
     "output_type": "execute_result"
    }
   ],
   "source": [
    "Counter(data1.Priority)"
   ]
  },
  {
   "cell_type": "code",
   "execution_count": 14,
   "metadata": {},
   "outputs": [],
   "source": [
    "#find Missing Priorities.  For you we need to find Missing Impact then using Impact and Urgency, derive Priority using Matrix"
   ]
  },
  {
   "cell_type": "code",
   "execution_count": 15,
   "metadata": {},
   "outputs": [],
   "source": [
    "import datetime as dt"
   ]
  },
  {
   "cell_type": "code",
   "execution_count": 16,
   "metadata": {},
   "outputs": [],
   "source": [
    "duration = []\n",
    "for index,row in data.iterrows():\n",
    "    duration.append(row.Close_Time-row.Open_Time)\n"
   ]
  },
  {
   "cell_type": "code",
   "execution_count": 17,
   "metadata": {},
   "outputs": [],
   "source": [
    "data['duration'] = duration"
   ]
  },
  {
   "cell_type": "code",
   "execution_count": 18,
   "metadata": {},
   "outputs": [
    {
     "data": {
      "text/plain": [
       "count                      46606\n",
       "mean      6 days 06:29:16.584795\n",
       "std      81 days 16:12:46.045016\n",
       "min          -334 days +17:48:02\n",
       "25%       0 days 00:40:08.250000\n",
       "50%              0 days 04:32:14\n",
       "75%       6 days 22:42:52.250000\n",
       "max            781 days 21:26:08\n",
       "Name: duration, dtype: object"
      ]
     },
     "execution_count": 18,
     "metadata": {},
     "output_type": "execute_result"
    }
   ],
   "source": [
    "data.duration.describe()"
   ]
  },
  {
   "cell_type": "code",
   "execution_count": 19,
   "metadata": {},
   "outputs": [
    {
     "data": {
      "text/plain": [
       "count                        8298\n",
       "mean     107 days 11:29:38.274765\n",
       "std       84 days 22:10:51.373665\n",
       "min              30 days 00:02:00\n",
       "25%              32 days 11:57:22\n",
       "50%              89 days 04:08:03\n",
       "75%             153 days 00:33:00\n",
       "max             781 days 21:26:08\n",
       "Name: duration, dtype: object"
      ]
     },
     "execution_count": 19,
     "metadata": {},
     "output_type": "execute_result"
    }
   ],
   "source": [
    "%matplotlib inline\n",
    "data[data['duration']> dt.timedelta(days=30)].duration.describe()"
   ]
  },
  {
   "cell_type": "code",
   "execution_count": 20,
   "metadata": {},
   "outputs": [
    {
     "data": {
      "text/plain": [
       "count                        38308\n",
       "mean     -16 days +08:20:03.635454\n",
       "std        62 days 02:00:04.795431\n",
       "min            -334 days +17:48:02\n",
       "25%                0 days 00:26:47\n",
       "50%         0 days 02:15:52.500000\n",
       "75%         1 days 00:45:43.750000\n",
       "max               29 days 23:59:55\n",
       "Name: duration, dtype: object"
      ]
     },
     "execution_count": 20,
     "metadata": {},
     "output_type": "execute_result"
    }
   ],
   "source": [
    "data[data['duration']< dt.timedelta(days=30)].duration.describe()"
   ]
  },
  {
   "cell_type": "markdown",
   "metadata": {},
   "source": [
    "#### Ticket statuses\n",
    "It's broken (Open, reopened and in-progress) <br>\n",
    "I think I've fixed it (Resolved)<br>\n",
    "Yes, it's fixed, never look at it again (Closed)"
   ]
  },
  {
   "cell_type": "code",
   "execution_count": 21,
   "metadata": {},
   "outputs": [
    {
     "data": {
      "text/html": [
       "<div>\n",
       "<style scoped>\n",
       "    .dataframe tbody tr th:only-of-type {\n",
       "        vertical-align: middle;\n",
       "    }\n",
       "\n",
       "    .dataframe tbody tr th {\n",
       "        vertical-align: top;\n",
       "    }\n",
       "\n",
       "    .dataframe thead th {\n",
       "        text-align: right;\n",
       "    }\n",
       "</style>\n",
       "<table border=\"1\" class=\"dataframe\">\n",
       "  <thead>\n",
       "    <tr style=\"text-align: right;\">\n",
       "      <th></th>\n",
       "      <th>Close_Time</th>\n",
       "      <th>Open_Time</th>\n",
       "      <th>Resolved_Time</th>\n",
       "    </tr>\n",
       "  </thead>\n",
       "  <tbody>\n",
       "    <tr>\n",
       "      <th>39</th>\n",
       "      <td>2013-09-10 13:41:13</td>\n",
       "      <td>2013-11-03 09:08:37</td>\n",
       "      <td>2013-09-10 13:41:08</td>\n",
       "    </tr>\n",
       "    <tr>\n",
       "      <th>40</th>\n",
       "      <td>2013-08-11 15:34:40</td>\n",
       "      <td>2013-12-03 09:54:11</td>\n",
       "      <td>2013-08-11 15:34:37</td>\n",
       "    </tr>\n",
       "    <tr>\n",
       "      <th>42</th>\n",
       "      <td>2013-01-10 07:52:46</td>\n",
       "      <td>2013-03-21 14:54:33</td>\n",
       "      <td>2013-01-10 07:52:43</td>\n",
       "    </tr>\n",
       "    <tr>\n",
       "      <th>49</th>\n",
       "      <td>2013-08-11 15:36:34</td>\n",
       "      <td>2013-09-04 12:49:06</td>\n",
       "      <td>2013-08-11 15:36:30</td>\n",
       "    </tr>\n",
       "    <tr>\n",
       "      <th>50</th>\n",
       "      <td>2013-08-11 15:41:25</td>\n",
       "      <td>2013-10-04 13:20:16</td>\n",
       "      <td>2013-08-11 15:41:22</td>\n",
       "    </tr>\n",
       "    <tr>\n",
       "      <th>51</th>\n",
       "      <td>2013-08-11 15:46:30</td>\n",
       "      <td>2013-10-04 15:13:52</td>\n",
       "      <td>2013-08-11 15:46:27</td>\n",
       "    </tr>\n",
       "    <tr>\n",
       "      <th>70</th>\n",
       "      <td>2013-05-12 11:19:20</td>\n",
       "      <td>2013-07-05 14:04:27</td>\n",
       "      <td>2013-05-12 11:19:14</td>\n",
       "    </tr>\n",
       "    <tr>\n",
       "      <th>72</th>\n",
       "      <td>2013-05-12 11:16:27</td>\n",
       "      <td>2013-07-05 15:12:56</td>\n",
       "      <td>2013-05-12 11:15:55</td>\n",
       "    </tr>\n",
       "    <tr>\n",
       "      <th>84</th>\n",
       "      <td>2013-05-12 08:28:36</td>\n",
       "      <td>2013-05-24 09:34:42</td>\n",
       "      <td>2013-05-12 08:27:23</td>\n",
       "    </tr>\n",
       "    <tr>\n",
       "      <th>87</th>\n",
       "      <td>2013-05-11 10:36:50</td>\n",
       "      <td>2013-05-27 16:28:37</td>\n",
       "      <td>2013-05-11 10:36:48</td>\n",
       "    </tr>\n",
       "    <tr>\n",
       "      <th>89</th>\n",
       "      <td>2013-05-11 15:15:19</td>\n",
       "      <td>2013-05-30 14:28:21</td>\n",
       "      <td>2013-05-11 15:15:16</td>\n",
       "    </tr>\n",
       "    <tr>\n",
       "      <th>97</th>\n",
       "      <td>2013-04-12 14:54:13</td>\n",
       "      <td>2013-06-06 11:14:44</td>\n",
       "      <td>2013-04-12 14:54:06</td>\n",
       "    </tr>\n",
       "    <tr>\n",
       "      <th>102</th>\n",
       "      <td>2013-10-16 14:09:14</td>\n",
       "      <td>2013-11-06 10:28:37</td>\n",
       "      <td>2013-10-16 14:09:11</td>\n",
       "    </tr>\n",
       "    <tr>\n",
       "      <th>103</th>\n",
       "      <td>2013-10-17 15:03:42</td>\n",
       "      <td>2013-11-06 16:17:42</td>\n",
       "      <td>2013-10-17 15:03:39</td>\n",
       "    </tr>\n",
       "    <tr>\n",
       "      <th>106</th>\n",
       "      <td>2013-04-11 14:01:08</td>\n",
       "      <td>2013-06-13 10:23:53</td>\n",
       "      <td>2013-04-11 14:00:21</td>\n",
       "    </tr>\n",
       "    <tr>\n",
       "      <th>126</th>\n",
       "      <td>2013-04-10 14:23:36</td>\n",
       "      <td>2013-06-28 12:06:53</td>\n",
       "      <td>2013-04-10 13:47:09</td>\n",
       "    </tr>\n",
       "    <tr>\n",
       "      <th>132</th>\n",
       "      <td>2013-02-10 08:10:30</td>\n",
       "      <td>2013-04-07 10:01:31</td>\n",
       "      <td>2013-02-10 08:10:27</td>\n",
       "    </tr>\n",
       "    <tr>\n",
       "      <th>133</th>\n",
       "      <td>2013-01-10 16:28:12</td>\n",
       "      <td>2013-04-07 15:27:15</td>\n",
       "      <td>2013-01-10 16:28:08</td>\n",
       "    </tr>\n",
       "    <tr>\n",
       "      <th>135</th>\n",
       "      <td>2013-04-12 14:25:51</td>\n",
       "      <td>2013-08-07 09:13:56</td>\n",
       "      <td>2013-04-12 14:25:32</td>\n",
       "    </tr>\n",
       "    <tr>\n",
       "      <th>139</th>\n",
       "      <td>2013-08-10 08:40:35</td>\n",
       "      <td>2013-09-07 12:04:05</td>\n",
       "      <td>2013-08-10 08:40:17</td>\n",
       "    </tr>\n",
       "    <tr>\n",
       "      <th>140</th>\n",
       "      <td>2013-04-11 08:39:41</td>\n",
       "      <td>2013-09-07 15:43:31</td>\n",
       "      <td>2013-04-11 08:39:37</td>\n",
       "    </tr>\n",
       "    <tr>\n",
       "      <th>147</th>\n",
       "      <td>2013-09-12 14:50:00</td>\n",
       "      <td>2013-11-07 11:48:30</td>\n",
       "      <td>2013-09-12 14:49:57</td>\n",
       "    </tr>\n",
       "    <tr>\n",
       "      <th>149</th>\n",
       "      <td>2013-01-10 10:11:36</td>\n",
       "      <td>2013-11-07 15:21:34</td>\n",
       "      <td>2013-01-10 10:11:33</td>\n",
       "    </tr>\n",
       "    <tr>\n",
       "      <th>150</th>\n",
       "      <td>2013-09-10 15:00:30</td>\n",
       "      <td>2013-11-07 16:08:22</td>\n",
       "      <td>2013-09-10 15:00:26</td>\n",
       "    </tr>\n",
       "    <tr>\n",
       "      <th>151</th>\n",
       "      <td>2013-09-10 14:20:43</td>\n",
       "      <td>2013-12-07 08:15:28</td>\n",
       "      <td>2013-09-10 14:20:37</td>\n",
       "    </tr>\n",
       "    <tr>\n",
       "      <th>152</th>\n",
       "      <td>2013-09-12 14:46:31</td>\n",
       "      <td>2013-12-07 09:07:37</td>\n",
       "      <td>2013-09-12 14:46:28</td>\n",
       "    </tr>\n",
       "    <tr>\n",
       "      <th>154</th>\n",
       "      <td>2013-11-27 15:36:44</td>\n",
       "      <td>2013-12-07 15:11:12</td>\n",
       "      <td>NaT</td>\n",
       "    </tr>\n",
       "    <tr>\n",
       "      <th>161</th>\n",
       "      <td>2013-01-10 14:20:53</td>\n",
       "      <td>2013-07-15 15:01:08</td>\n",
       "      <td>2013-01-10 14:20:46</td>\n",
       "    </tr>\n",
       "    <tr>\n",
       "      <th>171</th>\n",
       "      <td>2013-01-10 15:19:15</td>\n",
       "      <td>2013-07-17 10:13:18</td>\n",
       "      <td>NaT</td>\n",
       "    </tr>\n",
       "    <tr>\n",
       "      <th>182</th>\n",
       "      <td>2013-01-10 16:28:12</td>\n",
       "      <td>2013-07-24 12:04:47</td>\n",
       "      <td>2013-01-10 16:28:04</td>\n",
       "    </tr>\n",
       "    <tr>\n",
       "      <th>...</th>\n",
       "      <td>...</td>\n",
       "      <td>...</td>\n",
       "      <td>...</td>\n",
       "    </tr>\n",
       "    <tr>\n",
       "      <th>42797</th>\n",
       "      <td>2014-03-13 08:57:18</td>\n",
       "      <td>2014-12-03 16:06:57</td>\n",
       "      <td>2014-03-13 08:57:15</td>\n",
       "    </tr>\n",
       "    <tr>\n",
       "      <th>42798</th>\n",
       "      <td>2014-03-13 16:29:15</td>\n",
       "      <td>2014-12-03 16:10:55</td>\n",
       "      <td>2014-03-13 16:29:05</td>\n",
       "    </tr>\n",
       "    <tr>\n",
       "      <th>42799</th>\n",
       "      <td>2014-03-13 08:01:40</td>\n",
       "      <td>2014-12-03 16:13:34</td>\n",
       "      <td>2014-03-13 08:01:21</td>\n",
       "    </tr>\n",
       "    <tr>\n",
       "      <th>42800</th>\n",
       "      <td>2014-03-14 08:43:11</td>\n",
       "      <td>2014-12-03 16:21:02</td>\n",
       "      <td>2014-03-14 08:43:09</td>\n",
       "    </tr>\n",
       "    <tr>\n",
       "      <th>42801</th>\n",
       "      <td>2014-03-13 08:17:04</td>\n",
       "      <td>2014-12-03 16:30:27</td>\n",
       "      <td>2014-03-13 08:17:01</td>\n",
       "    </tr>\n",
       "    <tr>\n",
       "      <th>42803</th>\n",
       "      <td>2014-03-14 10:01:57</td>\n",
       "      <td>2014-12-03 16:52:47</td>\n",
       "      <td>2014-03-14 10:01:26</td>\n",
       "    </tr>\n",
       "    <tr>\n",
       "      <th>42804</th>\n",
       "      <td>2014-03-13 13:42:37</td>\n",
       "      <td>2014-12-03 16:52:47</td>\n",
       "      <td>2014-03-13 13:42:20</td>\n",
       "    </tr>\n",
       "    <tr>\n",
       "      <th>42807</th>\n",
       "      <td>2014-03-13 08:01:57</td>\n",
       "      <td>2014-12-03 17:07:46</td>\n",
       "      <td>2014-03-13 08:01:55</td>\n",
       "    </tr>\n",
       "    <tr>\n",
       "      <th>42808</th>\n",
       "      <td>2014-03-18 09:56:23</td>\n",
       "      <td>2014-12-03 17:17:29</td>\n",
       "      <td>2014-03-18 09:56:20</td>\n",
       "    </tr>\n",
       "    <tr>\n",
       "      <th>42813</th>\n",
       "      <td>2014-03-13 10:21:05</td>\n",
       "      <td>2014-12-03 14:07:00</td>\n",
       "      <td>2014-03-13 10:21:03</td>\n",
       "    </tr>\n",
       "    <tr>\n",
       "      <th>42814</th>\n",
       "      <td>2014-03-13 09:09:44</td>\n",
       "      <td>2014-12-03 14:08:18</td>\n",
       "      <td>2014-03-13 09:09:34</td>\n",
       "    </tr>\n",
       "    <tr>\n",
       "      <th>42815</th>\n",
       "      <td>2014-03-14 15:55:55</td>\n",
       "      <td>2014-12-03 14:11:31</td>\n",
       "      <td>2014-03-14 15:55:53</td>\n",
       "    </tr>\n",
       "    <tr>\n",
       "      <th>42816</th>\n",
       "      <td>2014-03-13 13:05:35</td>\n",
       "      <td>2014-12-03 14:22:14</td>\n",
       "      <td>NaT</td>\n",
       "    </tr>\n",
       "    <tr>\n",
       "      <th>42818</th>\n",
       "      <td>2014-03-24 08:01:32</td>\n",
       "      <td>2014-12-03 14:28:17</td>\n",
       "      <td>2014-03-24 08:01:21</td>\n",
       "    </tr>\n",
       "    <tr>\n",
       "      <th>42819</th>\n",
       "      <td>2014-03-17 15:01:05</td>\n",
       "      <td>2014-12-03 14:46:26</td>\n",
       "      <td>2014-03-17 15:01:02</td>\n",
       "    </tr>\n",
       "    <tr>\n",
       "      <th>42820</th>\n",
       "      <td>2014-03-18 12:44:54</td>\n",
       "      <td>2014-12-03 14:49:51</td>\n",
       "      <td>2014-03-18 12:44:51</td>\n",
       "    </tr>\n",
       "    <tr>\n",
       "      <th>42822</th>\n",
       "      <td>2014-03-17 07:37:07</td>\n",
       "      <td>2014-12-03 15:02:49</td>\n",
       "      <td>2014-03-17 07:36:35</td>\n",
       "    </tr>\n",
       "    <tr>\n",
       "      <th>42825</th>\n",
       "      <td>2014-03-19 08:31:10</td>\n",
       "      <td>2014-12-03 15:21:41</td>\n",
       "      <td>2014-03-19 08:31:07</td>\n",
       "    </tr>\n",
       "    <tr>\n",
       "      <th>42827</th>\n",
       "      <td>2014-03-20 14:29:06</td>\n",
       "      <td>2014-12-03 15:50:57</td>\n",
       "      <td>2014-03-20 14:29:02</td>\n",
       "    </tr>\n",
       "    <tr>\n",
       "      <th>42829</th>\n",
       "      <td>2014-03-14 10:24:19</td>\n",
       "      <td>2014-12-03 15:53:51</td>\n",
       "      <td>2014-03-14 10:24:07</td>\n",
       "    </tr>\n",
       "    <tr>\n",
       "      <th>42830</th>\n",
       "      <td>2014-03-14 11:04:21</td>\n",
       "      <td>2014-12-03 15:55:45</td>\n",
       "      <td>2014-03-14 11:03:32</td>\n",
       "    </tr>\n",
       "    <tr>\n",
       "      <th>42832</th>\n",
       "      <td>2014-03-13 16:00:59</td>\n",
       "      <td>2014-12-03 16:03:20</td>\n",
       "      <td>2014-03-13 16:00:46</td>\n",
       "    </tr>\n",
       "    <tr>\n",
       "      <th>42834</th>\n",
       "      <td>2014-03-13 17:44:54</td>\n",
       "      <td>2014-12-03 16:06:55</td>\n",
       "      <td>2014-03-13 17:44:52</td>\n",
       "    </tr>\n",
       "    <tr>\n",
       "      <th>42836</th>\n",
       "      <td>2014-03-27 10:22:09</td>\n",
       "      <td>2014-12-03 16:14:02</td>\n",
       "      <td>2014-03-27 10:22:06</td>\n",
       "    </tr>\n",
       "    <tr>\n",
       "      <th>42840</th>\n",
       "      <td>2014-03-13 09:58:07</td>\n",
       "      <td>2014-12-03 16:42:29</td>\n",
       "      <td>2014-03-13 09:57:57</td>\n",
       "    </tr>\n",
       "    <tr>\n",
       "      <th>42841</th>\n",
       "      <td>2014-03-27 15:22:23</td>\n",
       "      <td>2014-12-03 16:56:54</td>\n",
       "      <td>2014-03-27 15:22:21</td>\n",
       "    </tr>\n",
       "    <tr>\n",
       "      <th>42842</th>\n",
       "      <td>2014-03-18 09:37:29</td>\n",
       "      <td>2014-12-03 16:59:55</td>\n",
       "      <td>2014-03-18 09:36:38</td>\n",
       "    </tr>\n",
       "    <tr>\n",
       "      <th>42843</th>\n",
       "      <td>2014-03-13 07:40:33</td>\n",
       "      <td>2014-12-03 17:18:30</td>\n",
       "      <td>2014-03-13 07:40:31</td>\n",
       "    </tr>\n",
       "    <tr>\n",
       "      <th>42844</th>\n",
       "      <td>2014-03-13 07:27:01</td>\n",
       "      <td>2014-12-03 18:40:25</td>\n",
       "      <td>2014-03-13 07:26:58</td>\n",
       "    </tr>\n",
       "    <tr>\n",
       "      <th>42852</th>\n",
       "      <td>2014-03-13 07:17:37</td>\n",
       "      <td>2014-12-03 17:43:29</td>\n",
       "      <td>2014-03-13 07:17:35</td>\n",
       "    </tr>\n",
       "  </tbody>\n",
       "</table>\n",
       "<p>3897 rows × 3 columns</p>\n",
       "</div>"
      ],
      "text/plain": [
       "               Close_Time           Open_Time       Resolved_Time\n",
       "39    2013-09-10 13:41:13 2013-11-03 09:08:37 2013-09-10 13:41:08\n",
       "40    2013-08-11 15:34:40 2013-12-03 09:54:11 2013-08-11 15:34:37\n",
       "42    2013-01-10 07:52:46 2013-03-21 14:54:33 2013-01-10 07:52:43\n",
       "49    2013-08-11 15:36:34 2013-09-04 12:49:06 2013-08-11 15:36:30\n",
       "50    2013-08-11 15:41:25 2013-10-04 13:20:16 2013-08-11 15:41:22\n",
       "51    2013-08-11 15:46:30 2013-10-04 15:13:52 2013-08-11 15:46:27\n",
       "70    2013-05-12 11:19:20 2013-07-05 14:04:27 2013-05-12 11:19:14\n",
       "72    2013-05-12 11:16:27 2013-07-05 15:12:56 2013-05-12 11:15:55\n",
       "84    2013-05-12 08:28:36 2013-05-24 09:34:42 2013-05-12 08:27:23\n",
       "87    2013-05-11 10:36:50 2013-05-27 16:28:37 2013-05-11 10:36:48\n",
       "89    2013-05-11 15:15:19 2013-05-30 14:28:21 2013-05-11 15:15:16\n",
       "97    2013-04-12 14:54:13 2013-06-06 11:14:44 2013-04-12 14:54:06\n",
       "102   2013-10-16 14:09:14 2013-11-06 10:28:37 2013-10-16 14:09:11\n",
       "103   2013-10-17 15:03:42 2013-11-06 16:17:42 2013-10-17 15:03:39\n",
       "106   2013-04-11 14:01:08 2013-06-13 10:23:53 2013-04-11 14:00:21\n",
       "126   2013-04-10 14:23:36 2013-06-28 12:06:53 2013-04-10 13:47:09\n",
       "132   2013-02-10 08:10:30 2013-04-07 10:01:31 2013-02-10 08:10:27\n",
       "133   2013-01-10 16:28:12 2013-04-07 15:27:15 2013-01-10 16:28:08\n",
       "135   2013-04-12 14:25:51 2013-08-07 09:13:56 2013-04-12 14:25:32\n",
       "139   2013-08-10 08:40:35 2013-09-07 12:04:05 2013-08-10 08:40:17\n",
       "140   2013-04-11 08:39:41 2013-09-07 15:43:31 2013-04-11 08:39:37\n",
       "147   2013-09-12 14:50:00 2013-11-07 11:48:30 2013-09-12 14:49:57\n",
       "149   2013-01-10 10:11:36 2013-11-07 15:21:34 2013-01-10 10:11:33\n",
       "150   2013-09-10 15:00:30 2013-11-07 16:08:22 2013-09-10 15:00:26\n",
       "151   2013-09-10 14:20:43 2013-12-07 08:15:28 2013-09-10 14:20:37\n",
       "152   2013-09-12 14:46:31 2013-12-07 09:07:37 2013-09-12 14:46:28\n",
       "154   2013-11-27 15:36:44 2013-12-07 15:11:12                 NaT\n",
       "161   2013-01-10 14:20:53 2013-07-15 15:01:08 2013-01-10 14:20:46\n",
       "171   2013-01-10 15:19:15 2013-07-17 10:13:18                 NaT\n",
       "182   2013-01-10 16:28:12 2013-07-24 12:04:47 2013-01-10 16:28:04\n",
       "...                   ...                 ...                 ...\n",
       "42797 2014-03-13 08:57:18 2014-12-03 16:06:57 2014-03-13 08:57:15\n",
       "42798 2014-03-13 16:29:15 2014-12-03 16:10:55 2014-03-13 16:29:05\n",
       "42799 2014-03-13 08:01:40 2014-12-03 16:13:34 2014-03-13 08:01:21\n",
       "42800 2014-03-14 08:43:11 2014-12-03 16:21:02 2014-03-14 08:43:09\n",
       "42801 2014-03-13 08:17:04 2014-12-03 16:30:27 2014-03-13 08:17:01\n",
       "42803 2014-03-14 10:01:57 2014-12-03 16:52:47 2014-03-14 10:01:26\n",
       "42804 2014-03-13 13:42:37 2014-12-03 16:52:47 2014-03-13 13:42:20\n",
       "42807 2014-03-13 08:01:57 2014-12-03 17:07:46 2014-03-13 08:01:55\n",
       "42808 2014-03-18 09:56:23 2014-12-03 17:17:29 2014-03-18 09:56:20\n",
       "42813 2014-03-13 10:21:05 2014-12-03 14:07:00 2014-03-13 10:21:03\n",
       "42814 2014-03-13 09:09:44 2014-12-03 14:08:18 2014-03-13 09:09:34\n",
       "42815 2014-03-14 15:55:55 2014-12-03 14:11:31 2014-03-14 15:55:53\n",
       "42816 2014-03-13 13:05:35 2014-12-03 14:22:14                 NaT\n",
       "42818 2014-03-24 08:01:32 2014-12-03 14:28:17 2014-03-24 08:01:21\n",
       "42819 2014-03-17 15:01:05 2014-12-03 14:46:26 2014-03-17 15:01:02\n",
       "42820 2014-03-18 12:44:54 2014-12-03 14:49:51 2014-03-18 12:44:51\n",
       "42822 2014-03-17 07:37:07 2014-12-03 15:02:49 2014-03-17 07:36:35\n",
       "42825 2014-03-19 08:31:10 2014-12-03 15:21:41 2014-03-19 08:31:07\n",
       "42827 2014-03-20 14:29:06 2014-12-03 15:50:57 2014-03-20 14:29:02\n",
       "42829 2014-03-14 10:24:19 2014-12-03 15:53:51 2014-03-14 10:24:07\n",
       "42830 2014-03-14 11:04:21 2014-12-03 15:55:45 2014-03-14 11:03:32\n",
       "42832 2014-03-13 16:00:59 2014-12-03 16:03:20 2014-03-13 16:00:46\n",
       "42834 2014-03-13 17:44:54 2014-12-03 16:06:55 2014-03-13 17:44:52\n",
       "42836 2014-03-27 10:22:09 2014-12-03 16:14:02 2014-03-27 10:22:06\n",
       "42840 2014-03-13 09:58:07 2014-12-03 16:42:29 2014-03-13 09:57:57\n",
       "42841 2014-03-27 15:22:23 2014-12-03 16:56:54 2014-03-27 15:22:21\n",
       "42842 2014-03-18 09:37:29 2014-12-03 16:59:55 2014-03-18 09:36:38\n",
       "42843 2014-03-13 07:40:33 2014-12-03 17:18:30 2014-03-13 07:40:31\n",
       "42844 2014-03-13 07:27:01 2014-12-03 18:40:25 2014-03-13 07:26:58\n",
       "42852 2014-03-13 07:17:37 2014-12-03 17:43:29 2014-03-13 07:17:35\n",
       "\n",
       "[3897 rows x 3 columns]"
      ]
     },
     "execution_count": 21,
     "metadata": {},
     "output_type": "execute_result"
    }
   ],
   "source": [
    "data[data.Close_Time<data.Open_Time].loc[:,['Close_Time','Open_Time','Resolved_Time']]"
   ]
  },
  {
   "cell_type": "code",
   "execution_count": 7,
   "metadata": {},
   "outputs": [],
   "source": [
    "#Close Time can't be before Open Time. This takes care of Invalid close times\n",
    "datav = data[data.Close_Time>data.Open_Time]"
   ]
  },
  {
   "cell_type": "code",
   "execution_count": 23,
   "metadata": {},
   "outputs": [
    {
     "name": "stdout",
     "output_type": "stream",
     "text": [
      "<class 'pandas.core.frame.DataFrame'>\n",
      "Int64Index: 42709 entries, 0 to 46605\n",
      "Data columns (total 27 columns):\n",
      "CI_Name                       42709 non-null object\n",
      "CI_Cat                        42603 non-null object\n",
      "CI_Subcat                     42603 non-null object\n",
      "WBS                           42709 non-null object\n",
      "Incident_ID                   42709 non-null object\n",
      "Status                        42709 non-null object\n",
      "Impact                        42709 non-null object\n",
      "Urgency                       42709 non-null object\n",
      "Priority                      41406 non-null float64\n",
      "Unnamed: 9                    42709 non-null float64\n",
      "Category                      42709 non-null object\n",
      "KB_number                     42709 non-null object\n",
      "Alert_Status                  42709 non-null object\n",
      "No_of_Reassignments           42708 non-null float64\n",
      "Unnamed: 14                   42709 non-null int64\n",
      "Open_Time                     42709 non-null datetime64[ns]\n",
      "Reopen_Time                   1875 non-null datetime64[ns]\n",
      "Resolved_Time                 41015 non-null datetime64[ns]\n",
      "Close_Time                    42709 non-null datetime64[ns]\n",
      "Handle_Time_hrs               42708 non-null object\n",
      "Closure_Code                  42256 non-null object\n",
      "No_of_Related_Interactions    42596 non-null float64\n",
      "Related_Interaction           42709 non-null object\n",
      "No_of_Related_Incidents       1109 non-null float64\n",
      "No_of_Related_Changes         517 non-null float64\n",
      "Related_Change                517 non-null object\n",
      "duration                      42709 non-null timedelta64[ns]\n",
      "dtypes: datetime64[ns](4), float64(6), int64(1), object(15), timedelta64[ns](1)\n",
      "memory usage: 9.1+ MB\n"
     ]
    }
   ],
   "source": [
    "datav.info()"
   ]
  },
  {
   "cell_type": "code",
   "execution_count": 24,
   "metadata": {},
   "outputs": [
    {
     "data": {
      "text/plain": [
       "count                        8298\n",
       "mean     107 days 11:29:38.274765\n",
       "std       84 days 22:10:51.373665\n",
       "min              30 days 00:02:00\n",
       "25%              32 days 11:57:22\n",
       "50%              89 days 04:08:03\n",
       "75%             153 days 00:33:00\n",
       "max             781 days 21:26:08\n",
       "Name: duration, dtype: object"
      ]
     },
     "execution_count": 24,
     "metadata": {},
     "output_type": "execute_result"
    }
   ],
   "source": [
    "datav[datav['duration']> dt.timedelta(days=30)].duration.describe()"
   ]
  },
  {
   "cell_type": "code",
   "execution_count": 8,
   "metadata": {},
   "outputs": [
    {
     "data": {
      "text/plain": [
       "[('application', 30094),\n",
       " ('subapplication', 7338),\n",
       " ('computer', 3235),\n",
       " ('storage', 652),\n",
       " ('hardware', 340),\n",
       " ('software', 311),\n",
       " ('database', 205),\n",
       " ('displaydevice', 180),\n",
       " ('officeelectronics', 147),\n",
       " (nan, 106)]"
      ]
     },
     "execution_count": 8,
     "metadata": {},
     "output_type": "execute_result"
    }
   ],
   "source": [
    "Counter(datav.CI_Cat).most_common(10)"
   ]
  },
  {
   "cell_type": "code",
   "execution_count": 9,
   "metadata": {},
   "outputs": [
    {
     "data": {
      "text/plain": [
       "[('Server Based Application', 17365),\n",
       " ('Web Based Application', 14159),\n",
       " ('Desktop Application', 3481),\n",
       " ('Laptop', 1632),\n",
       " ('SAP', 1053),\n",
       " ('Banking Device', 877),\n",
       " ('Citrix', 730),\n",
       " ('SAN', 501),\n",
       " ('Client Based Application', 435),\n",
       " ('Desktop', 365)]"
      ]
     },
     "execution_count": 9,
     "metadata": {},
     "output_type": "execute_result"
    }
   ],
   "source": [
    "Counter(datav.CI_Subcat).most_common(10)"
   ]
  },
  {
   "cell_type": "code",
   "execution_count": 10,
   "metadata": {},
   "outputs": [
    {
     "data": {
      "text/plain": [
       "[('WBS000073', 12497),\n",
       " ('WBS000091', 2151),\n",
       " ('WBS000263', 2031),\n",
       " ('WBS000072', 1970),\n",
       " ('WBS000095', 1078),\n",
       " ('WBS000271', 1041),\n",
       " ('WBS000152', 995),\n",
       " ('WBS000318', 979),\n",
       " ('WBS000146', 828),\n",
       " ('WBS000094', 797)]"
      ]
     },
     "execution_count": 10,
     "metadata": {},
     "output_type": "execute_result"
    }
   ],
   "source": [
    "Counter(datav.WBS).most_common(10)"
   ]
  },
  {
   "cell_type": "code",
   "execution_count": 11,
   "metadata": {},
   "outputs": [
    {
     "data": {
      "text/plain": [
       "[('incident', 34715),\n",
       " ('request for information', 7984),\n",
       " ('complaint', 9),\n",
       " ('request for change', 1)]"
      ]
     },
     "execution_count": 11,
     "metadata": {},
     "output_type": "execute_result"
    }
   ],
   "source": [
    "Counter(datav.Category).most_common(5)"
   ]
  },
  {
   "cell_type": "code",
   "execution_count": 12,
   "metadata": {},
   "outputs": [
    {
     "data": {
      "text/plain": [
       "Counter({4.0: 22689, 3.0: 5310, 5.0: 16427, 2.0: 689, 1.0: 3})"
      ]
     },
     "execution_count": 12,
     "metadata": {},
     "output_type": "execute_result"
    }
   ],
   "source": [
    "selected = data.loc[:,['CI_Subcat','WBS','Category','Priority']]\n",
    "selected.dropna(inplace=True)\n",
    "Counter(selected.Priority)"
   ]
  },
  {
   "cell_type": "code",
   "execution_count": 13,
   "metadata": {},
   "outputs": [
    {
     "name": "stdout",
     "output_type": "stream",
     "text": [
      "<class 'pandas.core.frame.DataFrame'>\n",
      "Int64Index: 45118 entries, 0 to 46605\n",
      "Data columns (total 4 columns):\n",
      "CI_Subcat    45118 non-null object\n",
      "WBS          45118 non-null object\n",
      "Category     45118 non-null object\n",
      "Priority     45118 non-null float64\n",
      "dtypes: float64(1), object(3)\n",
      "memory usage: 1.7+ MB\n"
     ]
    }
   ],
   "source": [
    "selected.info()"
   ]
  },
  {
   "cell_type": "code",
   "execution_count": 32,
   "metadata": {},
   "outputs": [],
   "source": [
    "selected = selected[selected.Priority!=1]"
   ]
  },
  {
   "cell_type": "code",
   "execution_count": 33,
   "metadata": {},
   "outputs": [
    {
     "name": "stdout",
     "output_type": "stream",
     "text": [
      "<class 'pandas.core.frame.DataFrame'>\n",
      "Int64Index: 45115 entries, 0 to 46605\n",
      "Data columns (total 4 columns):\n",
      "CI_Subcat    45115 non-null int64\n",
      "WBS          45115 non-null int64\n",
      "Category     45115 non-null int64\n",
      "Priority     45115 non-null float64\n",
      "dtypes: float64(1), int64(3)\n",
      "memory usage: 1.7 MB\n"
     ]
    }
   ],
   "source": [
    "selected.info()"
   ]
  },
  {
   "cell_type": "code",
   "execution_count": 34,
   "metadata": {},
   "outputs": [
    {
     "ename": "ValueError",
     "evalue": "Length of values does not match length of index",
     "output_type": "error",
     "traceback": [
      "\u001b[0;31m---------------------------------------------------------------------------\u001b[0m",
      "\u001b[0;31mValueError\u001b[0m                                Traceback (most recent call last)",
      "\u001b[0;32m<ipython-input-34-8ca2402db28a>\u001b[0m in \u001b[0;36m<module>\u001b[0;34m\u001b[0m\n\u001b[1;32m      1\u001b[0m \u001b[0;32mfrom\u001b[0m \u001b[0msklearn\u001b[0m\u001b[0;34m.\u001b[0m\u001b[0mpreprocessing\u001b[0m \u001b[0;32mimport\u001b[0m \u001b[0mLabelEncoder\u001b[0m\u001b[0;34m\u001b[0m\u001b[0;34m\u001b[0m\u001b[0m\n\u001b[1;32m      2\u001b[0m \u001b[0menc\u001b[0m \u001b[0;34m=\u001b[0m \u001b[0mLabelEncoder\u001b[0m\u001b[0;34m(\u001b[0m\u001b[0;34m)\u001b[0m\u001b[0;34m\u001b[0m\u001b[0;34m\u001b[0m\u001b[0m\n\u001b[0;32m----> 3\u001b[0;31m \u001b[0mselected\u001b[0m\u001b[0;34m.\u001b[0m\u001b[0mCI_Subcat\u001b[0m \u001b[0;34m=\u001b[0m \u001b[0menc\u001b[0m\u001b[0;34m.\u001b[0m\u001b[0mfit_transform\u001b[0m\u001b[0;34m(\u001b[0m\u001b[0mX\u001b[0m\u001b[0;34m.\u001b[0m\u001b[0mCI_Subcat\u001b[0m\u001b[0;34m)\u001b[0m\u001b[0;34m\u001b[0m\u001b[0;34m\u001b[0m\u001b[0m\n\u001b[0m\u001b[1;32m      4\u001b[0m \u001b[0mselected\u001b[0m\u001b[0;34m.\u001b[0m\u001b[0mCategory\u001b[0m \u001b[0;34m=\u001b[0m \u001b[0menc\u001b[0m\u001b[0;34m.\u001b[0m\u001b[0mfit_transform\u001b[0m\u001b[0;34m(\u001b[0m\u001b[0mX\u001b[0m\u001b[0;34m.\u001b[0m\u001b[0mCategory\u001b[0m\u001b[0;34m)\u001b[0m\u001b[0;34m\u001b[0m\u001b[0;34m\u001b[0m\u001b[0m\n\u001b[1;32m      5\u001b[0m \u001b[0mselected\u001b[0m\u001b[0;34m.\u001b[0m\u001b[0mWBS\u001b[0m \u001b[0;34m=\u001b[0m \u001b[0mselected\u001b[0m\u001b[0;34m.\u001b[0m\u001b[0mWBS\u001b[0m\u001b[0;34m.\u001b[0m\u001b[0mstr\u001b[0m\u001b[0;34m[\u001b[0m\u001b[0;36m4\u001b[0m\u001b[0;34m:\u001b[0m\u001b[0;34m]\u001b[0m\u001b[0;34m.\u001b[0m\u001b[0mastype\u001b[0m\u001b[0;34m(\u001b[0m\u001b[0;34m'int'\u001b[0m\u001b[0;34m)\u001b[0m\u001b[0;34m\u001b[0m\u001b[0;34m\u001b[0m\u001b[0m\n",
      "\u001b[0;32m~/anaconda3/lib/python3.7/site-packages/pandas/core/generic.py\u001b[0m in \u001b[0;36m__setattr__\u001b[0;34m(self, name, value)\u001b[0m\n\u001b[1;32m   5094\u001b[0m                     \u001b[0mobject\u001b[0m\u001b[0;34m.\u001b[0m\u001b[0m__setattr__\u001b[0m\u001b[0;34m(\u001b[0m\u001b[0mself\u001b[0m\u001b[0;34m,\u001b[0m \u001b[0mname\u001b[0m\u001b[0;34m,\u001b[0m \u001b[0mvalue\u001b[0m\u001b[0;34m)\u001b[0m\u001b[0;34m\u001b[0m\u001b[0;34m\u001b[0m\u001b[0m\n\u001b[1;32m   5095\u001b[0m                 \u001b[0;32melif\u001b[0m \u001b[0mname\u001b[0m \u001b[0;32min\u001b[0m \u001b[0mself\u001b[0m\u001b[0;34m.\u001b[0m\u001b[0m_info_axis\u001b[0m\u001b[0;34m:\u001b[0m\u001b[0;34m\u001b[0m\u001b[0;34m\u001b[0m\u001b[0m\n\u001b[0;32m-> 5096\u001b[0;31m                     \u001b[0mself\u001b[0m\u001b[0;34m[\u001b[0m\u001b[0mname\u001b[0m\u001b[0;34m]\u001b[0m \u001b[0;34m=\u001b[0m \u001b[0mvalue\u001b[0m\u001b[0;34m\u001b[0m\u001b[0;34m\u001b[0m\u001b[0m\n\u001b[0m\u001b[1;32m   5097\u001b[0m                 \u001b[0;32melse\u001b[0m\u001b[0;34m:\u001b[0m\u001b[0;34m\u001b[0m\u001b[0;34m\u001b[0m\u001b[0m\n\u001b[1;32m   5098\u001b[0m                     \u001b[0mobject\u001b[0m\u001b[0;34m.\u001b[0m\u001b[0m__setattr__\u001b[0m\u001b[0;34m(\u001b[0m\u001b[0mself\u001b[0m\u001b[0;34m,\u001b[0m \u001b[0mname\u001b[0m\u001b[0;34m,\u001b[0m \u001b[0mvalue\u001b[0m\u001b[0;34m)\u001b[0m\u001b[0;34m\u001b[0m\u001b[0;34m\u001b[0m\u001b[0m\n",
      "\u001b[0;32m~/anaconda3/lib/python3.7/site-packages/pandas/core/frame.py\u001b[0m in \u001b[0;36m__setitem__\u001b[0;34m(self, key, value)\u001b[0m\n\u001b[1;32m   3368\u001b[0m         \u001b[0;32melse\u001b[0m\u001b[0;34m:\u001b[0m\u001b[0;34m\u001b[0m\u001b[0;34m\u001b[0m\u001b[0m\n\u001b[1;32m   3369\u001b[0m             \u001b[0;31m# set column\u001b[0m\u001b[0;34m\u001b[0m\u001b[0;34m\u001b[0m\u001b[0;34m\u001b[0m\u001b[0m\n\u001b[0;32m-> 3370\u001b[0;31m             \u001b[0mself\u001b[0m\u001b[0;34m.\u001b[0m\u001b[0m_set_item\u001b[0m\u001b[0;34m(\u001b[0m\u001b[0mkey\u001b[0m\u001b[0;34m,\u001b[0m \u001b[0mvalue\u001b[0m\u001b[0;34m)\u001b[0m\u001b[0;34m\u001b[0m\u001b[0;34m\u001b[0m\u001b[0m\n\u001b[0m\u001b[1;32m   3371\u001b[0m \u001b[0;34m\u001b[0m\u001b[0m\n\u001b[1;32m   3372\u001b[0m     \u001b[0;32mdef\u001b[0m \u001b[0m_setitem_slice\u001b[0m\u001b[0;34m(\u001b[0m\u001b[0mself\u001b[0m\u001b[0;34m,\u001b[0m \u001b[0mkey\u001b[0m\u001b[0;34m,\u001b[0m \u001b[0mvalue\u001b[0m\u001b[0;34m)\u001b[0m\u001b[0;34m:\u001b[0m\u001b[0;34m\u001b[0m\u001b[0;34m\u001b[0m\u001b[0m\n",
      "\u001b[0;32m~/anaconda3/lib/python3.7/site-packages/pandas/core/frame.py\u001b[0m in \u001b[0;36m_set_item\u001b[0;34m(self, key, value)\u001b[0m\n\u001b[1;32m   3443\u001b[0m \u001b[0;34m\u001b[0m\u001b[0m\n\u001b[1;32m   3444\u001b[0m         \u001b[0mself\u001b[0m\u001b[0;34m.\u001b[0m\u001b[0m_ensure_valid_index\u001b[0m\u001b[0;34m(\u001b[0m\u001b[0mvalue\u001b[0m\u001b[0;34m)\u001b[0m\u001b[0;34m\u001b[0m\u001b[0;34m\u001b[0m\u001b[0m\n\u001b[0;32m-> 3445\u001b[0;31m         \u001b[0mvalue\u001b[0m \u001b[0;34m=\u001b[0m \u001b[0mself\u001b[0m\u001b[0;34m.\u001b[0m\u001b[0m_sanitize_column\u001b[0m\u001b[0;34m(\u001b[0m\u001b[0mkey\u001b[0m\u001b[0;34m,\u001b[0m \u001b[0mvalue\u001b[0m\u001b[0;34m)\u001b[0m\u001b[0;34m\u001b[0m\u001b[0;34m\u001b[0m\u001b[0m\n\u001b[0m\u001b[1;32m   3446\u001b[0m         \u001b[0mNDFrame\u001b[0m\u001b[0;34m.\u001b[0m\u001b[0m_set_item\u001b[0m\u001b[0;34m(\u001b[0m\u001b[0mself\u001b[0m\u001b[0;34m,\u001b[0m \u001b[0mkey\u001b[0m\u001b[0;34m,\u001b[0m \u001b[0mvalue\u001b[0m\u001b[0;34m)\u001b[0m\u001b[0;34m\u001b[0m\u001b[0;34m\u001b[0m\u001b[0m\n\u001b[1;32m   3447\u001b[0m \u001b[0;34m\u001b[0m\u001b[0m\n",
      "\u001b[0;32m~/anaconda3/lib/python3.7/site-packages/pandas/core/frame.py\u001b[0m in \u001b[0;36m_sanitize_column\u001b[0;34m(self, key, value, broadcast)\u001b[0m\n\u001b[1;32m   3628\u001b[0m \u001b[0;34m\u001b[0m\u001b[0m\n\u001b[1;32m   3629\u001b[0m             \u001b[0;31m# turn me into an ndarray\u001b[0m\u001b[0;34m\u001b[0m\u001b[0;34m\u001b[0m\u001b[0;34m\u001b[0m\u001b[0m\n\u001b[0;32m-> 3630\u001b[0;31m             \u001b[0mvalue\u001b[0m \u001b[0;34m=\u001b[0m \u001b[0msanitize_index\u001b[0m\u001b[0;34m(\u001b[0m\u001b[0mvalue\u001b[0m\u001b[0;34m,\u001b[0m \u001b[0mself\u001b[0m\u001b[0;34m.\u001b[0m\u001b[0mindex\u001b[0m\u001b[0;34m,\u001b[0m \u001b[0mcopy\u001b[0m\u001b[0;34m=\u001b[0m\u001b[0;32mFalse\u001b[0m\u001b[0;34m)\u001b[0m\u001b[0;34m\u001b[0m\u001b[0;34m\u001b[0m\u001b[0m\n\u001b[0m\u001b[1;32m   3631\u001b[0m             \u001b[0;32mif\u001b[0m \u001b[0;32mnot\u001b[0m \u001b[0misinstance\u001b[0m\u001b[0;34m(\u001b[0m\u001b[0mvalue\u001b[0m\u001b[0;34m,\u001b[0m \u001b[0;34m(\u001b[0m\u001b[0mnp\u001b[0m\u001b[0;34m.\u001b[0m\u001b[0mndarray\u001b[0m\u001b[0;34m,\u001b[0m \u001b[0mIndex\u001b[0m\u001b[0;34m)\u001b[0m\u001b[0;34m)\u001b[0m\u001b[0;34m:\u001b[0m\u001b[0;34m\u001b[0m\u001b[0;34m\u001b[0m\u001b[0m\n\u001b[1;32m   3632\u001b[0m                 \u001b[0;32mif\u001b[0m \u001b[0misinstance\u001b[0m\u001b[0;34m(\u001b[0m\u001b[0mvalue\u001b[0m\u001b[0;34m,\u001b[0m \u001b[0mlist\u001b[0m\u001b[0;34m)\u001b[0m \u001b[0;32mand\u001b[0m \u001b[0mlen\u001b[0m\u001b[0;34m(\u001b[0m\u001b[0mvalue\u001b[0m\u001b[0;34m)\u001b[0m \u001b[0;34m>\u001b[0m \u001b[0;36m0\u001b[0m\u001b[0;34m:\u001b[0m\u001b[0;34m\u001b[0m\u001b[0;34m\u001b[0m\u001b[0m\n",
      "\u001b[0;32m~/anaconda3/lib/python3.7/site-packages/pandas/core/internals/construction.py\u001b[0m in \u001b[0;36msanitize_index\u001b[0;34m(data, index, copy)\u001b[0m\n\u001b[1;32m    517\u001b[0m \u001b[0;34m\u001b[0m\u001b[0m\n\u001b[1;32m    518\u001b[0m     \u001b[0;32mif\u001b[0m \u001b[0mlen\u001b[0m\u001b[0;34m(\u001b[0m\u001b[0mdata\u001b[0m\u001b[0;34m)\u001b[0m \u001b[0;34m!=\u001b[0m \u001b[0mlen\u001b[0m\u001b[0;34m(\u001b[0m\u001b[0mindex\u001b[0m\u001b[0;34m)\u001b[0m\u001b[0;34m:\u001b[0m\u001b[0;34m\u001b[0m\u001b[0;34m\u001b[0m\u001b[0m\n\u001b[0;32m--> 519\u001b[0;31m         \u001b[0;32mraise\u001b[0m \u001b[0mValueError\u001b[0m\u001b[0;34m(\u001b[0m\u001b[0;34m'Length of values does not match length of index'\u001b[0m\u001b[0;34m)\u001b[0m\u001b[0;34m\u001b[0m\u001b[0;34m\u001b[0m\u001b[0m\n\u001b[0m\u001b[1;32m    520\u001b[0m \u001b[0;34m\u001b[0m\u001b[0m\n\u001b[1;32m    521\u001b[0m     \u001b[0;32mif\u001b[0m \u001b[0misinstance\u001b[0m\u001b[0;34m(\u001b[0m\u001b[0mdata\u001b[0m\u001b[0;34m,\u001b[0m \u001b[0mABCIndexClass\u001b[0m\u001b[0;34m)\u001b[0m \u001b[0;32mand\u001b[0m \u001b[0;32mnot\u001b[0m \u001b[0mcopy\u001b[0m\u001b[0;34m:\u001b[0m\u001b[0;34m\u001b[0m\u001b[0;34m\u001b[0m\u001b[0m\n",
      "\u001b[0;31mValueError\u001b[0m: Length of values does not match length of index"
     ]
    }
   ],
   "source": [
    "from sklearn.preprocessing import LabelEncoder\n",
    "enc = LabelEncoder()\n",
    "selected.CI_Subcat = enc.fit_transform(X.CI_Subcat)\n",
    "selected.Category = enc.fit_transform(X.Category)\n",
    "selected.WBS = selected.WBS.str[4:].astype('int')"
   ]
  },
  {
   "cell_type": "code",
   "execution_count": 35,
   "metadata": {},
   "outputs": [
    {
     "data": {
      "text/plain": [
       "Counter({1: 36316, 3: 8787, 0: 11, 2: 1})"
      ]
     },
     "execution_count": 35,
     "metadata": {},
     "output_type": "execute_result"
    }
   ],
   "source": [
    "Counter(selected.Category)"
   ]
  },
  {
   "cell_type": "code",
   "execution_count": 36,
   "metadata": {},
   "outputs": [],
   "source": [
    "X = selected.loc[:,['CI_Subcat','WBS','Category']]\n",
    "y = selected.Priority"
   ]
  },
  {
   "cell_type": "code",
   "execution_count": 37,
   "metadata": {},
   "outputs": [
    {
     "data": {
      "text/html": [
       "<div>\n",
       "<style scoped>\n",
       "    .dataframe tbody tr th:only-of-type {\n",
       "        vertical-align: middle;\n",
       "    }\n",
       "\n",
       "    .dataframe tbody tr th {\n",
       "        vertical-align: top;\n",
       "    }\n",
       "\n",
       "    .dataframe thead th {\n",
       "        text-align: right;\n",
       "    }\n",
       "</style>\n",
       "<table border=\"1\" class=\"dataframe\">\n",
       "  <thead>\n",
       "    <tr style=\"text-align: right;\">\n",
       "      <th></th>\n",
       "      <th>0</th>\n",
       "    </tr>\n",
       "  </thead>\n",
       "  <tbody>\n",
       "    <tr>\n",
       "      <th>0</th>\n",
       "      <td>0</td>\n",
       "    </tr>\n",
       "    <tr>\n",
       "      <th>1</th>\n",
       "      <td>1</td>\n",
       "    </tr>\n",
       "    <tr>\n",
       "      <th>2</th>\n",
       "      <td>2</td>\n",
       "    </tr>\n",
       "    <tr>\n",
       "      <th>3</th>\n",
       "      <td>3</td>\n",
       "    </tr>\n",
       "    <tr>\n",
       "      <th>4</th>\n",
       "      <td>4</td>\n",
       "    </tr>\n",
       "    <tr>\n",
       "      <th>5</th>\n",
       "      <td>5</td>\n",
       "    </tr>\n",
       "    <tr>\n",
       "      <th>6</th>\n",
       "      <td>6</td>\n",
       "    </tr>\n",
       "    <tr>\n",
       "      <th>7</th>\n",
       "      <td>7</td>\n",
       "    </tr>\n",
       "    <tr>\n",
       "      <th>8</th>\n",
       "      <td>8</td>\n",
       "    </tr>\n",
       "    <tr>\n",
       "      <th>9</th>\n",
       "      <td>9</td>\n",
       "    </tr>\n",
       "    <tr>\n",
       "      <th>10</th>\n",
       "      <td>10</td>\n",
       "    </tr>\n",
       "    <tr>\n",
       "      <th>11</th>\n",
       "      <td>11</td>\n",
       "    </tr>\n",
       "    <tr>\n",
       "      <th>12</th>\n",
       "      <td>12</td>\n",
       "    </tr>\n",
       "    <tr>\n",
       "      <th>13</th>\n",
       "      <td>13</td>\n",
       "    </tr>\n",
       "    <tr>\n",
       "      <th>14</th>\n",
       "      <td>14</td>\n",
       "    </tr>\n",
       "    <tr>\n",
       "      <th>15</th>\n",
       "      <td>15</td>\n",
       "    </tr>\n",
       "    <tr>\n",
       "      <th>16</th>\n",
       "      <td>16</td>\n",
       "    </tr>\n",
       "    <tr>\n",
       "      <th>17</th>\n",
       "      <td>17</td>\n",
       "    </tr>\n",
       "    <tr>\n",
       "      <th>18</th>\n",
       "      <td>18</td>\n",
       "    </tr>\n",
       "    <tr>\n",
       "      <th>19</th>\n",
       "      <td>19</td>\n",
       "    </tr>\n",
       "    <tr>\n",
       "      <th>20</th>\n",
       "      <td>20</td>\n",
       "    </tr>\n",
       "    <tr>\n",
       "      <th>21</th>\n",
       "      <td>21</td>\n",
       "    </tr>\n",
       "    <tr>\n",
       "      <th>22</th>\n",
       "      <td>22</td>\n",
       "    </tr>\n",
       "    <tr>\n",
       "      <th>23</th>\n",
       "      <td>23</td>\n",
       "    </tr>\n",
       "    <tr>\n",
       "      <th>24</th>\n",
       "      <td>24</td>\n",
       "    </tr>\n",
       "    <tr>\n",
       "      <th>25</th>\n",
       "      <td>25</td>\n",
       "    </tr>\n",
       "    <tr>\n",
       "      <th>26</th>\n",
       "      <td>26</td>\n",
       "    </tr>\n",
       "    <tr>\n",
       "      <th>27</th>\n",
       "      <td>27</td>\n",
       "    </tr>\n",
       "    <tr>\n",
       "      <th>28</th>\n",
       "      <td>28</td>\n",
       "    </tr>\n",
       "    <tr>\n",
       "      <th>29</th>\n",
       "      <td>29</td>\n",
       "    </tr>\n",
       "    <tr>\n",
       "      <th>...</th>\n",
       "      <td>...</td>\n",
       "    </tr>\n",
       "    <tr>\n",
       "      <th>32</th>\n",
       "      <td>32</td>\n",
       "    </tr>\n",
       "    <tr>\n",
       "      <th>33</th>\n",
       "      <td>33</td>\n",
       "    </tr>\n",
       "    <tr>\n",
       "      <th>34</th>\n",
       "      <td>34</td>\n",
       "    </tr>\n",
       "    <tr>\n",
       "      <th>35</th>\n",
       "      <td>35</td>\n",
       "    </tr>\n",
       "    <tr>\n",
       "      <th>36</th>\n",
       "      <td>36</td>\n",
       "    </tr>\n",
       "    <tr>\n",
       "      <th>37</th>\n",
       "      <td>37</td>\n",
       "    </tr>\n",
       "    <tr>\n",
       "      <th>38</th>\n",
       "      <td>38</td>\n",
       "    </tr>\n",
       "    <tr>\n",
       "      <th>39</th>\n",
       "      <td>39</td>\n",
       "    </tr>\n",
       "    <tr>\n",
       "      <th>40</th>\n",
       "      <td>40</td>\n",
       "    </tr>\n",
       "    <tr>\n",
       "      <th>41</th>\n",
       "      <td>41</td>\n",
       "    </tr>\n",
       "    <tr>\n",
       "      <th>42</th>\n",
       "      <td>42</td>\n",
       "    </tr>\n",
       "    <tr>\n",
       "      <th>43</th>\n",
       "      <td>43</td>\n",
       "    </tr>\n",
       "    <tr>\n",
       "      <th>44</th>\n",
       "      <td>44</td>\n",
       "    </tr>\n",
       "    <tr>\n",
       "      <th>45</th>\n",
       "      <td>45</td>\n",
       "    </tr>\n",
       "    <tr>\n",
       "      <th>46</th>\n",
       "      <td>46</td>\n",
       "    </tr>\n",
       "    <tr>\n",
       "      <th>47</th>\n",
       "      <td>47</td>\n",
       "    </tr>\n",
       "    <tr>\n",
       "      <th>48</th>\n",
       "      <td>48</td>\n",
       "    </tr>\n",
       "    <tr>\n",
       "      <th>49</th>\n",
       "      <td>49</td>\n",
       "    </tr>\n",
       "    <tr>\n",
       "      <th>50</th>\n",
       "      <td>50</td>\n",
       "    </tr>\n",
       "    <tr>\n",
       "      <th>51</th>\n",
       "      <td>51</td>\n",
       "    </tr>\n",
       "    <tr>\n",
       "      <th>52</th>\n",
       "      <td>52</td>\n",
       "    </tr>\n",
       "    <tr>\n",
       "      <th>53</th>\n",
       "      <td>53</td>\n",
       "    </tr>\n",
       "    <tr>\n",
       "      <th>54</th>\n",
       "      <td>54</td>\n",
       "    </tr>\n",
       "    <tr>\n",
       "      <th>55</th>\n",
       "      <td>55</td>\n",
       "    </tr>\n",
       "    <tr>\n",
       "      <th>56</th>\n",
       "      <td>56</td>\n",
       "    </tr>\n",
       "    <tr>\n",
       "      <th>57</th>\n",
       "      <td>57</td>\n",
       "    </tr>\n",
       "    <tr>\n",
       "      <th>58</th>\n",
       "      <td>58</td>\n",
       "    </tr>\n",
       "    <tr>\n",
       "      <th>59</th>\n",
       "      <td>59</td>\n",
       "    </tr>\n",
       "    <tr>\n",
       "      <th>60</th>\n",
       "      <td>60</td>\n",
       "    </tr>\n",
       "    <tr>\n",
       "      <th>61</th>\n",
       "      <td>61</td>\n",
       "    </tr>\n",
       "  </tbody>\n",
       "</table>\n",
       "<p>62 rows × 1 columns</p>\n",
       "</div>"
      ],
      "text/plain": [
       "     0\n",
       "0    0\n",
       "1    1\n",
       "2    2\n",
       "3    3\n",
       "4    4\n",
       "5    5\n",
       "6    6\n",
       "7    7\n",
       "8    8\n",
       "9    9\n",
       "10  10\n",
       "11  11\n",
       "12  12\n",
       "13  13\n",
       "14  14\n",
       "15  15\n",
       "16  16\n",
       "17  17\n",
       "18  18\n",
       "19  19\n",
       "20  20\n",
       "21  21\n",
       "22  22\n",
       "23  23\n",
       "24  24\n",
       "25  25\n",
       "26  26\n",
       "27  27\n",
       "28  28\n",
       "29  29\n",
       "..  ..\n",
       "32  32\n",
       "33  33\n",
       "34  34\n",
       "35  35\n",
       "36  36\n",
       "37  37\n",
       "38  38\n",
       "39  39\n",
       "40  40\n",
       "41  41\n",
       "42  42\n",
       "43  43\n",
       "44  44\n",
       "45  45\n",
       "46  46\n",
       "47  47\n",
       "48  48\n",
       "49  49\n",
       "50  50\n",
       "51  51\n",
       "52  52\n",
       "53  53\n",
       "54  54\n",
       "55  55\n",
       "56  56\n",
       "57  57\n",
       "58  58\n",
       "59  59\n",
       "60  60\n",
       "61  61\n",
       "\n",
       "[62 rows x 1 columns]"
      ]
     },
     "execution_count": 37,
     "metadata": {},
     "output_type": "execute_result"
    }
   ],
   "source": [
    "pd.DataFrame(enc.classes_)"
   ]
  },
  {
   "cell_type": "code",
   "execution_count": 38,
   "metadata": {},
   "outputs": [],
   "source": [
    "from sklearn.model_selection import train_test_split\n",
    "X_train, X_test, y_train, y_test = train_test_split(X, y,stratify=y,random_state=13)\n"
   ]
  },
  {
   "cell_type": "code",
   "execution_count": 39,
   "metadata": {},
   "outputs": [],
   "source": [
    "from sklearn.ensemble import RandomForestClassifier\n",
    "model = RandomForestClassifier()"
   ]
  },
  {
   "cell_type": "code",
   "execution_count": 40,
   "metadata": {},
   "outputs": [
    {
     "name": "stdout",
     "output_type": "stream",
     "text": [
      "[[ 104   10   40   18]\n",
      " [  56  806  357  109]\n",
      " [  55  170 5173  274]\n",
      " [   5   44  694 3364]]\n"
     ]
    },
    {
     "name": "stderr",
     "output_type": "stream",
     "text": [
      "/Users/ashokveda/anaconda3/lib/python3.7/site-packages/sklearn/ensemble/forest.py:245: FutureWarning: The default value of n_estimators will change from 10 in version 0.20 to 100 in 0.22.\n",
      "  \"10 in version 0.20 to 100 in 0.22.\", FutureWarning)\n"
     ]
    },
    {
     "data": {
      "text/plain": [
       "0.8375742530366167"
      ]
     },
     "execution_count": 40,
     "metadata": {},
     "output_type": "execute_result"
    }
   ],
   "source": [
    "model=RandomForestClassifier()\n",
    "model.fit(X_train,y_train)\n",
    "y_pred = model.predict(X_test)\n",
    "from sklearn.metrics import confusion_matrix,accuracy_score\n",
    "print(confusion_matrix(y_test,y_pred))\n",
    "accuracy_score(y_test,y_pred)"
   ]
  },
  {
   "cell_type": "code",
   "execution_count": 41,
   "metadata": {},
   "outputs": [
    {
     "name": "stderr",
     "output_type": "stream",
     "text": [
      "/Users/ashokveda/anaconda3/lib/python3.7/site-packages/sklearn/ensemble/forest.py:245: FutureWarning: The default value of n_estimators will change from 10 in version 0.20 to 100 in 0.22.\n",
      "  \"10 in version 0.20 to 100 in 0.22.\", FutureWarning)\n"
     ]
    },
    {
     "name": "stdout",
     "output_type": "stream",
     "text": [
      "[[ 101   14   42   15]\n",
      " [  53  790  381  104]\n",
      " [  54  163 5207  248]\n",
      " [   5   38  743 3321]]\n"
     ]
    },
    {
     "data": {
      "text/plain": [
       "0.8350917634542069"
      ]
     },
     "execution_count": 41,
     "metadata": {},
     "output_type": "execute_result"
    }
   ],
   "source": [
    "model=RandomForestClassifier(max_depth=15)\n",
    "model.fit(X_train,y_train)\n",
    "y_pred = model.predict(X_test)\n",
    "from sklearn.metrics import confusion_matrix,accuracy_score\n",
    "print(confusion_matrix(y_test,y_pred))\n",
    "accuracy_score(y_test,y_pred)"
   ]
  },
  {
   "cell_type": "code",
   "execution_count": 42,
   "metadata": {},
   "outputs": [
    {
     "name": "stdout",
     "output_type": "stream",
     "text": [
      "[[  99   10   52   11]\n",
      " [  52  614  511  151]\n",
      " [  53  163 5181  275]\n",
      " [   5   28  875 3199]]\n"
     ]
    },
    {
     "data": {
      "text/plain": [
       "0.8061884918875787"
      ]
     },
     "execution_count": 42,
     "metadata": {},
     "output_type": "execute_result"
    }
   ],
   "source": [
    "from xgboost import XGBClassifier\n",
    "model=XGBClassifier()\n",
    "model.fit(X_train,y_train)\n",
    "y_pred = model.predict(X_test)\n",
    "from sklearn.metrics import confusion_matrix,accuracy_score\n",
    "print(confusion_matrix(y_test,y_pred))\n",
    "accuracy_score(y_test,y_pred)"
   ]
  },
  {
   "cell_type": "code",
   "execution_count": 43,
   "metadata": {},
   "outputs": [
    {
     "data": {
      "text/plain": [
       "Counter({3.0: 1328, 4.0: 5672, 5.0: 4107, 2.0: 172})"
      ]
     },
     "execution_count": 43,
     "metadata": {},
     "output_type": "execute_result"
    }
   ],
   "source": [
    "Counter(y_test)"
   ]
  },
  {
   "cell_type": "code",
   "execution_count": 44,
   "metadata": {
    "scrolled": true
   },
   "outputs": [
    {
     "name": "stdout",
     "output_type": "stream",
     "text": [
      "[[ 104    9   44   15]\n",
      " [  56  804  359  109]\n",
      " [  55  177 5184  256]\n",
      " [   5   47  713 3342]]\n",
      "0.8364216685876408\n"
     ]
    },
    {
     "data": {
      "text/html": [
       "<div>\n",
       "<style scoped>\n",
       "    .dataframe tbody tr th:only-of-type {\n",
       "        vertical-align: middle;\n",
       "    }\n",
       "\n",
       "    .dataframe tbody tr th {\n",
       "        vertical-align: top;\n",
       "    }\n",
       "\n",
       "    .dataframe thead th {\n",
       "        text-align: right;\n",
       "    }\n",
       "</style>\n",
       "<table border=\"1\" class=\"dataframe\">\n",
       "  <thead>\n",
       "    <tr style=\"text-align: right;\">\n",
       "      <th>col_0</th>\n",
       "      <th>2.0</th>\n",
       "      <th>3.0</th>\n",
       "      <th>4.0</th>\n",
       "      <th>5.0</th>\n",
       "    </tr>\n",
       "    <tr>\n",
       "      <th>Priority</th>\n",
       "      <th></th>\n",
       "      <th></th>\n",
       "      <th></th>\n",
       "      <th></th>\n",
       "    </tr>\n",
       "  </thead>\n",
       "  <tbody>\n",
       "    <tr>\n",
       "      <th>2.0</th>\n",
       "      <td>104</td>\n",
       "      <td>9</td>\n",
       "      <td>44</td>\n",
       "      <td>15</td>\n",
       "    </tr>\n",
       "    <tr>\n",
       "      <th>3.0</th>\n",
       "      <td>56</td>\n",
       "      <td>804</td>\n",
       "      <td>359</td>\n",
       "      <td>109</td>\n",
       "    </tr>\n",
       "    <tr>\n",
       "      <th>4.0</th>\n",
       "      <td>55</td>\n",
       "      <td>177</td>\n",
       "      <td>5184</td>\n",
       "      <td>256</td>\n",
       "    </tr>\n",
       "    <tr>\n",
       "      <th>5.0</th>\n",
       "      <td>5</td>\n",
       "      <td>47</td>\n",
       "      <td>713</td>\n",
       "      <td>3342</td>\n",
       "    </tr>\n",
       "  </tbody>\n",
       "</table>\n",
       "</div>"
      ],
      "text/plain": [
       "col_0     2.0  3.0   4.0   5.0\n",
       "Priority                      \n",
       "2.0       104    9    44    15\n",
       "3.0        56  804   359   109\n",
       "4.0        55  177  5184   256\n",
       "5.0         5   47   713  3342"
      ]
     },
     "execution_count": 44,
     "metadata": {},
     "output_type": "execute_result"
    }
   ],
   "source": [
    "from sklearn.svm import SVC\n",
    "\n",
    "model=SVC(kernel='rbf',C=10,gamma=0.1)\n",
    "model.fit(X_train,y_train)\n",
    "y_pred = model.predict(X_test)\n",
    "from sklearn.metrics import confusion_matrix,accuracy_score\n",
    "print(confusion_matrix(y_test,y_pred))\n",
    "print(accuracy_score(y_test,y_pred))\n",
    "pd.crosstab(y_test,y_pred)"
   ]
  },
  {
   "cell_type": "code",
   "execution_count": 45,
   "metadata": {},
   "outputs": [
    {
     "name": "stderr",
     "output_type": "stream",
     "text": [
      "/Users/ashokveda/anaconda3/lib/python3.7/site-packages/sklearn/model_selection/_split.py:1978: FutureWarning: The default value of cv will change from 3 to 5 in version 0.22. Specify it explicitly to silence this warning.\n",
      "  warnings.warn(CV_WARNING, FutureWarning)\n"
     ]
    },
    {
     "data": {
      "text/plain": [
       "0.8294715687433503"
      ]
     },
     "execution_count": 45,
     "metadata": {},
     "output_type": "execute_result"
    }
   ],
   "source": [
    "from sklearn.model_selection import GridSearchCV\n",
    "parameters = { 'kernel':['rbf'],\n",
    "                'C':[1,100],\n",
    "                'gamma' : [0.01,1.0]}\n",
    "grid_model = GridSearchCV(SVC(),parameters)\n",
    "grid_model.fit(X_train, y_train)\n",
    "grid_model.best_score_"
   ]
  },
  {
   "cell_type": "code",
   "execution_count": 48,
   "metadata": {},
   "outputs": [
    {
     "name": "stdout",
     "output_type": "stream",
     "text": [
      "              precision    recall  f1-score   support\n",
      "\n",
      "         2.0       0.47      0.60      0.53       172\n",
      "         3.0       0.78      0.61      0.68      1328\n",
      "         4.0       0.82      0.91      0.87      5672\n",
      "         5.0       0.90      0.81      0.85      4107\n",
      "\n",
      "    accuracy                           0.84     11279\n",
      "   macro avg       0.74      0.73      0.73     11279\n",
      "weighted avg       0.84      0.84      0.83     11279\n",
      "\n"
     ]
    }
   ],
   "source": [
    "from sklearn.metrics import classification_report\n",
    "from sklearn.metrics import confusion_matrix,accuracy_score\n",
    "print(classification_report(y_test,y_pred))\n"
   ]
  },
  {
   "cell_type": "code",
   "execution_count": 47,
   "metadata": {},
   "outputs": [
    {
     "data": {
      "text/plain": [
       "Counter({4.0: 17017, 5.0: 12320, 2.0: 517, 3.0: 3982})"
      ]
     },
     "execution_count": 47,
     "metadata": {},
     "output_type": "execute_result"
    }
   ],
   "source": [
    "Counter(y_train)"
   ]
  },
  {
   "cell_type": "code",
   "execution_count": 49,
   "metadata": {},
   "outputs": [],
   "source": [
    "from imblearn.over_sampling import SMOTE\n",
    "smote = SMOTE()\n",
    "X_train_smote, y_train_smote = smote.fit_sample(X_train,y_train)"
   ]
  },
  {
   "cell_type": "code",
   "execution_count": 67,
   "metadata": {},
   "outputs": [
    {
     "name": "stdout",
     "output_type": "stream",
     "text": [
      "0.7818955581168543\n"
     ]
    },
    {
     "data": {
      "text/html": [
       "<div>\n",
       "<style scoped>\n",
       "    .dataframe tbody tr th:only-of-type {\n",
       "        vertical-align: middle;\n",
       "    }\n",
       "\n",
       "    .dataframe tbody tr th {\n",
       "        vertical-align: top;\n",
       "    }\n",
       "\n",
       "    .dataframe thead th {\n",
       "        text-align: right;\n",
       "    }\n",
       "</style>\n",
       "<table border=\"1\" class=\"dataframe\">\n",
       "  <thead>\n",
       "    <tr style=\"text-align: right;\">\n",
       "      <th>col_0</th>\n",
       "      <th>2.0</th>\n",
       "      <th>3.0</th>\n",
       "      <th>4.0</th>\n",
       "      <th>5.0</th>\n",
       "    </tr>\n",
       "    <tr>\n",
       "      <th>Priority</th>\n",
       "      <th></th>\n",
       "      <th></th>\n",
       "      <th></th>\n",
       "      <th></th>\n",
       "    </tr>\n",
       "  </thead>\n",
       "  <tbody>\n",
       "    <tr>\n",
       "      <th>2.0</th>\n",
       "      <td>124</td>\n",
       "      <td>20</td>\n",
       "      <td>19</td>\n",
       "      <td>9</td>\n",
       "    </tr>\n",
       "    <tr>\n",
       "      <th>3.0</th>\n",
       "      <td>120</td>\n",
       "      <td>955</td>\n",
       "      <td>172</td>\n",
       "      <td>81</td>\n",
       "    </tr>\n",
       "    <tr>\n",
       "      <th>4.0</th>\n",
       "      <td>398</td>\n",
       "      <td>590</td>\n",
       "      <td>4444</td>\n",
       "      <td>240</td>\n",
       "    </tr>\n",
       "    <tr>\n",
       "      <th>5.0</th>\n",
       "      <td>52</td>\n",
       "      <td>168</td>\n",
       "      <td>591</td>\n",
       "      <td>3296</td>\n",
       "    </tr>\n",
       "  </tbody>\n",
       "</table>\n",
       "</div>"
      ],
      "text/plain": [
       "col_0     2.0  3.0   4.0   5.0\n",
       "Priority                      \n",
       "2.0       124   20    19     9\n",
       "3.0       120  955   172    81\n",
       "4.0       398  590  4444   240\n",
       "5.0        52  168   591  3296"
      ]
     },
     "execution_count": 67,
     "metadata": {},
     "output_type": "execute_result"
    }
   ],
   "source": [
    "model=RandomForestClassifier(n_estimators=5,max_depth=20)\n",
    "model.fit(X_train_smote,y_train_smote)\n",
    "y_pred = model.predict(X_test.values)\n",
    "print(accuracy_score(y_test,y_pred))\n",
    "pd.crosstab(y_test,y_pred)"
   ]
  },
  {
   "cell_type": "code",
   "execution_count": 76,
   "metadata": {},
   "outputs": [
    {
     "name": "stdout",
     "output_type": "stream",
     "text": [
      "             precision    recall  f1-score   support\n",
      "\n",
      "        2.0       0.48      0.60      0.53       172\n",
      "        3.0       0.78      0.61      0.68      1328\n",
      "        4.0       0.82      0.91      0.87      5672\n",
      "        5.0       0.90      0.81      0.85      4107\n",
      "\n",
      "avg / total       0.84      0.84      0.84     11279\n",
      "\n"
     ]
    }
   ],
   "source": [
    "print(classification_report(y_test,y_pred))"
   ]
  },
  {
   "cell_type": "code",
   "execution_count": 84,
   "metadata": {
    "scrolled": true
   },
   "outputs": [
    {
     "data": {
      "text/plain": [
       "Counter({2.0: 689, 3.0: 5310, 4.0: 22689, 5.0: 16427})"
      ]
     },
     "execution_count": 84,
     "metadata": {},
     "output_type": "execute_result"
    }
   ],
   "source": [
    "Counter(y)"
   ]
  },
  {
   "cell_type": "code",
   "execution_count": 87,
   "metadata": {},
   "outputs": [
    {
     "data": {
      "text/html": [
       "<div>\n",
       "<style scoped>\n",
       "    .dataframe tbody tr th:only-of-type {\n",
       "        vertical-align: middle;\n",
       "    }\n",
       "\n",
       "    .dataframe tbody tr th {\n",
       "        vertical-align: top;\n",
       "    }\n",
       "\n",
       "    .dataframe thead th {\n",
       "        text-align: right;\n",
       "    }\n",
       "</style>\n",
       "<table border=\"1\" class=\"dataframe\">\n",
       "  <thead>\n",
       "    <tr style=\"text-align: right;\">\n",
       "      <th></th>\n",
       "      <th>CI_Subcat</th>\n",
       "      <th>WBS</th>\n",
       "      <th>Category</th>\n",
       "      <th>Priority</th>\n",
       "    </tr>\n",
       "  </thead>\n",
       "  <tbody>\n",
       "    <tr>\n",
       "      <th>0</th>\n",
       "      <td>Web Based Application</td>\n",
       "      <td>WBS000162</td>\n",
       "      <td>incident</td>\n",
       "      <td>4.0</td>\n",
       "    </tr>\n",
       "    <tr>\n",
       "      <th>1</th>\n",
       "      <td>Web Based Application</td>\n",
       "      <td>WBS000088</td>\n",
       "      <td>incident</td>\n",
       "      <td>3.0</td>\n",
       "    </tr>\n",
       "    <tr>\n",
       "      <th>3</th>\n",
       "      <td>Web Based Application</td>\n",
       "      <td>WBS000088</td>\n",
       "      <td>incident</td>\n",
       "      <td>4.0</td>\n",
       "    </tr>\n",
       "    <tr>\n",
       "      <th>4</th>\n",
       "      <td>Web Based Application</td>\n",
       "      <td>WBS000088</td>\n",
       "      <td>incident</td>\n",
       "      <td>4.0</td>\n",
       "    </tr>\n",
       "    <tr>\n",
       "      <th>5</th>\n",
       "      <td>Web Based Application</td>\n",
       "      <td>WBS000088</td>\n",
       "      <td>incident</td>\n",
       "      <td>4.0</td>\n",
       "    </tr>\n",
       "  </tbody>\n",
       "</table>\n",
       "</div>"
      ],
      "text/plain": [
       "               CI_Subcat        WBS  Category  Priority\n",
       "0  Web Based Application  WBS000162  incident       4.0\n",
       "1  Web Based Application  WBS000088  incident       3.0\n",
       "3  Web Based Application  WBS000088  incident       4.0\n",
       "4  Web Based Application  WBS000088  incident       4.0\n",
       "5  Web Based Application  WBS000088  incident       4.0"
      ]
     },
     "execution_count": 87,
     "metadata": {},
     "output_type": "execute_result"
    }
   ],
   "source": [
    "selected.head()"
   ]
  },
  {
   "cell_type": "code",
   "execution_count": 94,
   "metadata": {},
   "outputs": [
    {
     "data": {
      "text/plain": [
       "['ML_perdict_high_priority.ml']"
      ]
     },
     "execution_count": 94,
     "metadata": {},
     "output_type": "execute_result"
    }
   ],
   "source": [
    "from sklearn.externals import joblib\n",
    "joblib.dump(model,'ML_perdict_high_priority.ml')"
   ]
  },
  {
   "cell_type": "code",
   "execution_count": null,
   "metadata": {},
   "outputs": [],
   "source": []
  }
 ],
 "metadata": {
  "kernelspec": {
   "display_name": "Python 3",
   "language": "python",
   "name": "python3"
  },
  "language_info": {
   "codemirror_mode": {
    "name": "ipython",
    "version": 3
   },
   "file_extension": ".py",
   "mimetype": "text/x-python",
   "name": "python",
   "nbconvert_exporter": "python",
   "pygments_lexer": "ipython3",
   "version": "3.7.4"
  }
 },
 "nbformat": 4,
 "nbformat_minor": 2
}
